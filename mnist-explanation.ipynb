{
 "cells": [
  {
   "cell_type": "markdown",
   "id": "previous-combination",
   "metadata": {},
   "source": [
    "# mnist-explanation\n",
    "\n",
    "In this notebook, I try to implement explanation methods as described by G. Montavon et al. in their paper `Methods for Interpreting and Understanding Deep Neural Networks` [1]"
   ]
  },
  {
   "cell_type": "code",
   "execution_count": 1,
   "id": "changing-damage",
   "metadata": {},
   "outputs": [],
   "source": [
    "import numpy as np\n",
    "import matplotlib.pyplot as plt\n",
    "import torch\n",
    "import torchvision\n",
    "import torch.nn as nn\n",
    "import torch.nn.functional as F\n",
    "from tqdm.notebook import tqdm, trange\n",
    "import os"
   ]
  },
  {
   "cell_type": "code",
   "execution_count": 2,
   "id": "suitable-circle",
   "metadata": {},
   "outputs": [],
   "source": [
    "mean, std = (0.1307, 0.3081)\n",
    "transforms = torchvision.transforms.Compose([\n",
    "                               torchvision.transforms.ToTensor(),\n",
    "                               torchvision.transforms.Normalize((mean,), (std,))\n",
    "                             ])"
   ]
  },
  {
   "cell_type": "code",
   "execution_count": 3,
   "id": "prospective-updating",
   "metadata": {
    "scrolled": true
   },
   "outputs": [],
   "source": [
    "trainset = torchvision.datasets.MNIST(root='./data', train=True, download=True, transform=transforms)\n",
    "trainloader = torch.utils.data.DataLoader(trainset, batch_size=4, shuffle=True, num_workers=2)"
   ]
  },
  {
   "cell_type": "code",
   "execution_count": 4,
   "id": "velvet-collar",
   "metadata": {},
   "outputs": [],
   "source": [
    "testset  = torchvision.datasets.MNIST(root='./data', train=False, download=True, transform=transforms)\n",
    "testloader = torch.utils.data.DataLoader(testset, batch_size=4, shuffle=False, num_workers=2)"
   ]
  },
  {
   "cell_type": "code",
   "execution_count": 5,
   "id": "modified-worcester",
   "metadata": {},
   "outputs": [
    {
     "name": "stdout",
     "output_type": "stream",
     "text": [
      "Image Dimension: torch.Size([28, 28])\n"
     ]
    },
    {
     "data": {
      "image/png": "[encoded data removed]",
      "text/plain": [
       "<Figure size 864x216 with 4 Axes>"
      ]
     },
     "metadata": {},
     "output_type": "display_data"
    }
   ],
   "source": [
    "dataiter = iter(trainloader)\n",
    "images, labels = dataiter.next()\n",
    "\n",
    "fig, ax = plt.subplots(1,4)\n",
    "fig.suptitle('Training set samples')\n",
    "fig.set_size_inches(12,3)\n",
    "for i in range(images.shape[0]):\n",
    "    ax[i].imshow(images[i][0], cmap='gray')\n",
    "    ax[i].set_title('Groundtruth: {}'.format(labels[i].item()))\n",
    "    ax[i].set_xticks([])\n",
    "    ax[i].set_yticks([])\n",
    "    \n",
    "print('Image Dimension: {}'.format(images[0][0].shape))"
   ]
  },
  {
   "cell_type": "markdown",
   "id": "charming-credits",
   "metadata": {},
   "source": [
    "## Neural Network Implementation\n",
    "\n",
    "In their original paper, the researchers give advises on the kind of Deep Neural Network (DNN) to be used in order to maximise their explainability. We will follow the following advices:\n",
    " - Use as few fully-connected layers as needed to be accurate, and train these layers with dropout\n",
    " - Use sum-pooling layers abundantly, and prefer them to other types of pooling layers\n",
    " - In the linear layers (convolution and fully-connected), constrain biases to be zero or negative\n",
    "\n",
    "As such, I will be using a very simple CNN: 2 convolutional layers with associated average-pooling layers followed by 3 fully-connected layers, using the RELU activation function."
   ]
  },
  {
   "cell_type": "code",
   "execution_count": 6,
   "id": "emerging-appreciation",
   "metadata": {},
   "outputs": [],
   "source": [
    "class ConstrainedConv2d(nn.Conv2d):\n",
    "    def forward(self, input):\n",
    "        return F.conv2d(input, self.weight, self.bias.clamp(self.bias.min().item(),0), self.stride,\n",
    "                        self.padding, self.dilation, self.groups)\n",
    "    \n",
    "class ConstrainedLinear(nn.Linear):\n",
    "    def forward(self, input):\n",
    "        return F.linear(input, self.weight, self.bias.clamp(self.bias.min().item(),0))"
   ]
  },
  {
   "cell_type": "code",
   "execution_count": 7,
   "id": "positive-helping",
   "metadata": {},
   "outputs": [
    {
     "name": "stdout",
     "output_type": "stream",
     "text": [
      "DNN(\n",
      "  (conv1): ConstrainedConv2d(1, 6, kernel_size=(3, 3), stride=(1, 1))\n",
      "  (conv2): ConstrainedConv2d(6, 16, kernel_size=(3, 3), stride=(1, 1))\n",
      "  (fc1): ConstrainedLinear(in_features=400, out_features=120, bias=True)\n",
      "  (fc2): ConstrainedLinear(in_features=120, out_features=84, bias=True)\n",
      "  (fc3): ConstrainedLinear(in_features=84, out_features=10, bias=True)\n",
      "  (pool): AvgPool2d(kernel_size=2, stride=2, padding=0)\n",
      "  (dropout): Dropout(p=0.25, inplace=False)\n",
      ")\n"
     ]
    }
   ],
   "source": [
    "class DNN(nn.Module):\n",
    "    def __init__(self):\n",
    "        super(DNN, self).__init__()\n",
    "        self.conv1 = ConstrainedConv2d(1, 6, 3)\n",
    "        self.conv2 = ConstrainedConv2d(6, 16, 3)\n",
    "        self.fc1 = ConstrainedLinear(16 * 5 * 5, 120)\n",
    "        self.fc2 = ConstrainedLinear(120, 84)\n",
    "        self.fc3 = ConstrainedLinear(84, 10)\n",
    "        \n",
    "        self.pool = nn.AvgPool2d(2)\n",
    "        self.dropout = nn.Dropout(0.25)\n",
    "\n",
    "    def forward(self, x):\n",
    "        x = F.relu(self.conv1(x))\n",
    "        x = self.pool(x)\n",
    "        x = F.relu(self.conv2(x))\n",
    "        x = self.pool(x)\n",
    "        x = x.view(-1, self.num_flat_features(x))\n",
    "        x = F.relu(self.fc1(self.dropout(x)))\n",
    "        x = F.relu(self.fc2(self.dropout(x)))\n",
    "        x = self.fc3(self.dropout(x))\n",
    "        return x\n",
    "\n",
    "    def num_flat_features(self, x):\n",
    "        size = x.size()[1:]\n",
    "        num_features = 1\n",
    "        for s in size:\n",
    "            num_features *= s\n",
    "        return num_features\n",
    "\n",
    "\n",
    "dnn = DNN()\n",
    "print(dnn)"
   ]
  },
  {
   "cell_type": "markdown",
   "id": "tested-metadata",
   "metadata": {},
   "source": [
    "I use the Adam optimiser (using PyTorch default values) together with the Categorical Cross-Entropy loss function, over 10 epochs."
   ]
  },
  {
   "cell_type": "code",
   "execution_count": 8,
   "id": "apart-england",
   "metadata": {},
   "outputs": [],
   "source": [
    "opt = torch.optim.Adam(dnn.parameters())\n",
    "cce = nn.CrossEntropyLoss()\n",
    "epochs = 10\n",
    "model_path = './model.pt'\n",
    "force_train = False"
   ]
  },
  {
   "cell_type": "code",
   "execution_count": 9,
   "id": "configured-headline",
   "metadata": {},
   "outputs": [],
   "source": [
    "# Training\n",
    "# Is skipped if saved model exists and training is not forced through dedicated constant\n",
    "if os.path.isfile(model_path) and not force_train:\n",
    "    dnn = torch.load(model_path)\n",
    "else:\n",
    "    losses = np.zeros(epochs)\n",
    "    for epoch in trange(epochs, desc='Epochs'):\n",
    "        epoch_loss = 0.0\n",
    "        for data in tqdm(trainloader, desc='Epoch {}'.format(epoch)):\n",
    "            inputs, labels = data\n",
    "            opt.zero_grad()\n",
    "            outputs = dnn(inputs)\n",
    "            loss = cce(outputs, labels)\n",
    "            loss.backward()\n",
    "            opt.step()\n",
    "            epoch_loss += loss.item()\n",
    "        losses[epoch] = epoch_loss\n",
    "        \n",
    "    torch.save(dnn, model_path)\n",
    "        \n",
    "    plt.plot(losses)\n",
    "    plt.title('Evolution of loss in every epoch')\n",
    "    plt.show()"
   ]
  },
  {
   "cell_type": "code",
   "execution_count": 10,
   "id": "expired-terrain",
   "metadata": {},
   "outputs": [
    {
     "data": {
      "application/vnd.jupyter.widget-view+json": {
       "model_id": "9c2128f523bc4e4db43b4516734eb1cc",
       "version_major": 2,
       "version_minor": 0
      },
      "text/plain": [
       "Testing:   0%|          | 0/2500 [00:00<?, ?it/s]"
      ]
     },
     "metadata": {},
     "output_type": "display_data"
    },
    {
     "name": "stdout",
     "output_type": "stream",
     "text": [
      "Accuracy of the network on the 40000 test images: 99.11%\n"
     ]
    }
   ],
   "source": [
    "dnn.eval()\n",
    "correct = 0\n",
    "total = 0\n",
    "with torch.no_grad():\n",
    "    for data in tqdm(testloader, desc='Testing'):\n",
    "        images, labels = data\n",
    "        outputs = dnn(images)\n",
    "        _, predicted = torch.max(outputs.data, 1)\n",
    "        total += labels.size(0)\n",
    "        correct += (predicted == labels).sum().item()\n",
    "\n",
    "print('Accuracy of the network on the {} test images: {:2}%'.format(total*4, 100.*correct/total))"
   ]
  },
  {
   "cell_type": "markdown",
   "id": "dress-atlanta",
   "metadata": {},
   "source": [
    "With 99.11% accuracy over the test set, the result is judged satisfactory enough to be used in the explanation framework."
   ]
  },
  {
   "cell_type": "markdown",
   "id": "lonely-money",
   "metadata": {},
   "source": [
    "## References\n",
    "\n",
    "[1] Grégoire Montavon, Wojciech Samek, Klaus-Robert Müller, Methods for interpreting and understanding deep neural networks, Digital Signal Processing, Volume 73, 2018, Pages 1-15, ISSN 1051-2004, https://doi.org/10.1016/j.dsp.2017.10.011. (https://www.sciencedirect.com/science/article/pii/S1051200417302385)"
   ]
  }
 ],
 "metadata": {
  "kernelspec": {
   "display_name": "Python 3",
   "language": "python",
   "name": "python3"
  },
  "language_info": {
   "codemirror_mode": {
    "name": "ipython",
    "version": 3
   },
   "file_extension": ".py",
   "mimetype": "text/x-python",
   "name": "python",
   "nbconvert_exporter": "python",
   "pygments_lexer": "ipython3",
   "version": "3.9.1"
  }
 },
 "nbformat": 4,
 "nbformat_minor": 5
}
