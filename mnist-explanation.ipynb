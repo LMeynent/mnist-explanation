{
 "cells": [
  {
   "cell_type": "markdown",
   "id": "characteristic-architecture",
   "metadata": {},
   "source": [
    "# mnist-explanation\n",
    "\n",
    "In this notebook, I try to implement explanation methods as described by G. Montavon et al. in their paper `Methods for Interpreting and Understanding Deep Neural Networks` [1]"
   ]
  },
  {
   "cell_type": "code",
   "execution_count": 1,
   "id": "celtic-albania",
   "metadata": {},
   "outputs": [],
   "source": [
    "import numpy as np\n",
    "import matplotlib.pyplot as plt\n",
    "import torch\n",
    "import torchvision"
   ]
  },
  {
   "cell_type": "code",
   "execution_count": 2,
   "id": "latter-cookie",
   "metadata": {},
   "outputs": [],
   "source": [
    "mean, std = (0.1307, 0.3081)\n",
    "transforms = torchvision.transforms.Compose([\n",
    "                               torchvision.transforms.ToTensor(),\n",
    "                               torchvision.transforms.Normalize((mean,), (std,))\n",
    "                             ])"
   ]
  },
  {
   "cell_type": "code",
   "execution_count": 3,
   "id": "molecular-iraqi",
   "metadata": {
    "scrolled": true
   },
   "outputs": [],
   "source": [
    "trainset = torchvision.datasets.MNIST(root='./data', train=True, download=True, transform=transforms)\n",
    "trainloader = torch.utils.data.DataLoader(trainset, batch_size=4, shuffle=True, num_workers=2)"
   ]
  },
  {
   "cell_type": "code",
   "execution_count": 4,
   "id": "ecological-liquid",
   "metadata": {},
   "outputs": [],
   "source": [
    "testset  = torchvision.datasets.MNIST(root='./data', train=True, download=True, transform=transforms)\n",
    "testloader = torch.utils.data.DataLoader(trainset, batch_size=4, shuffle=False, num_workers=2)"
   ]
  },
  {
   "cell_type": "code",
   "execution_count": 5,
   "id": "embedded-shanghai",
   "metadata": {},
   "outputs": [
    {
     "data": {
      "image/png": "[encoded data removed]",
      "text/plain": [
       "<Figure size 864x216 with 4 Axes>"
      ]
     },
     "metadata": {},
     "output_type": "display_data"
    }
   ],
   "source": [
    "dataiter = iter(trainloader)\n",
    "images, labels = dataiter.next()\n",
    "\n",
    "fig, ax = plt.subplots(1,4)\n",
    "fig.suptitle('Training set samples')\n",
    "fig.set_size_inches(12,3)\n",
    "for i in range(images.shape[0]):\n",
    "    ax[i].imshow(images[i][0], cmap='gray')\n",
    "    ax[i].set_title('Groundtruth: {}'.format(labels[i].item()))\n",
    "    ax[i].set_xticks([])\n",
    "    ax[i].set_yticks([])"
   ]
  },
  {
   "cell_type": "markdown",
   "id": "bridal-tolerance",
   "metadata": {},
   "source": [
    "## Neural Network Implementation\n",
    "\n",
    "In their original paper, the researchers do not explicit the structure of the Deep Neural Network (DNN) used in the scope of their study."
   ]
  },
  {
   "cell_type": "markdown",
   "id": "strategic-armenia",
   "metadata": {},
   "source": [
    "## References\n",
    "\n",
    "[1] Grégoire Montavon, Wojciech Samek, Klaus-Robert Müller, Methods for interpreting and understanding deep neural networks, Digital Signal Processing, Volume 73, 2018, Pages 1-15, ISSN 1051-2004, https://doi.org/10.1016/j.dsp.2017.10.011. (https://www.sciencedirect.com/science/article/pii/S1051200417302385)"
   ]
  }
 ],
 "metadata": {
  "kernelspec": {
   "display_name": "Python 3",
   "language": "python",
   "name": "python3"
  },
  "language_info": {
   "codemirror_mode": {
    "name": "ipython",
    "version": 3
   },
   "file_extension": ".py",
   "mimetype": "text/x-python",
   "name": "python",
   "nbconvert_exporter": "python",
   "pygments_lexer": "ipython3",
   "version": "3.9.1"
  }
 },
 "nbformat": 4,
 "nbformat_minor": 5
}
